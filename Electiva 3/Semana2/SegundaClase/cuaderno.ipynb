{
 "cells": [
  {
   "cell_type": "markdown",
   "id": "ca6b8864",
   "metadata": {},
   "source": [
    "hacer una función que sume dos numeros"
   ]
  },
  {
   "cell_type": "code",
   "execution_count": 1,
   "id": "164477be",
   "metadata": {},
   "outputs": [],
   "source": [
    "def sumar_dos_numeros(a:int,b)->int:\n",
    "    return a + b"
   ]
  },
  {
   "cell_type": "markdown",
   "id": "e616e920",
   "metadata": {},
   "source": [
    "una sola linea"
   ]
  },
  {
   "cell_type": "code",
   "execution_count": 2,
   "id": "10fde5b6",
   "metadata": {},
   "outputs": [],
   "source": [
    "sumar_dos_numeros2= lambda a,b: a+b"
   ]
  },
  {
   "cell_type": "code",
   "execution_count": 3,
   "id": "7af7db72",
   "metadata": {},
   "outputs": [
    {
     "data": {
      "text/plain": [
       "5"
      ]
     },
     "execution_count": 3,
     "metadata": {},
     "output_type": "execute_result"
    }
   ],
   "source": [
    "sumar_dos_numeros(2,3)"
   ]
  },
  {
   "cell_type": "code",
   "execution_count": 4,
   "id": "d0caaea5",
   "metadata": {},
   "outputs": [
    {
     "data": {
      "text/plain": [
       "5"
      ]
     },
     "execution_count": 4,
     "metadata": {},
     "output_type": "execute_result"
    }
   ],
   "source": [
    "sumar_dos_numeros2(2,3)"
   ]
  }
 ],
 "metadata": {
  "kernelspec": {
   "display_name": "Python 3",
   "language": "python",
   "name": "python3"
  },
  "language_info": {
   "codemirror_mode": {
    "name": "ipython",
    "version": 3
   },
   "file_extension": ".py",
   "mimetype": "text/x-python",
   "name": "python",
   "nbconvert_exporter": "python",
   "pygments_lexer": "ipython3",
   "version": "3.11.9"
  }
 },
 "nbformat": 4,
 "nbformat_minor": 5
}
